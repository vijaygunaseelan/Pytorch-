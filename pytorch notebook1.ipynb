{
 "cells": [
  {
   "cell_type": "markdown",
   "id": "4efcebe1",
   "metadata": {},
   "source": [
    "# Pytorch Tutorial\n",
    "Tensors Basics\n",
    "    A tensor is a generalization of vectors and matrices and is easily understood as a multidimensional array.It is a term and set of techniques known in machine learning in the training and operation of deep learning models can be described in terms of tensors. In many cases tensors are used as a replacement for NumPy to use the power of GPUs.\n",
    "\n",
    "Tensors are a type of data structure used in linear algebra, and like vectors and matrices, you can calculate arithmetic operations with tensors."
   ]
  },
  {
   "cell_type": "code",
   "execution_count": 4,
   "id": "1623ba82",
   "metadata": {},
   "outputs": [],
   "source": [
    "import torch"
   ]
  },
  {
   "cell_type": "code",
   "execution_count": 5,
   "id": "ada4117e",
   "metadata": {},
   "outputs": [
    {
     "data": {
      "text/plain": [
       "'2.0.1'"
      ]
     },
     "execution_count": 5,
     "metadata": {},
     "output_type": "execute_result"
    }
   ],
   "source": [
    "torch.__version__"
   ]
  },
  {
   "cell_type": "code",
   "execution_count": 6,
   "id": "8793ac00",
   "metadata": {},
   "outputs": [],
   "source": [
    "import numpy as np"
   ]
  },
  {
   "cell_type": "code",
   "execution_count": 11,
   "id": "445cd2d8",
   "metadata": {},
   "outputs": [],
   "source": [
    "list=[1,3,4,5,6,8,7]\n",
    "array=np.array(list)"
   ]
  },
  {
   "cell_type": "code",
   "execution_count": 12,
   "id": "06da6e82",
   "metadata": {},
   "outputs": [
    {
     "data": {
      "text/plain": [
       "array([1, 3, 4, 5, 6, 8, 7])"
      ]
     },
     "execution_count": 12,
     "metadata": {},
     "output_type": "execute_result"
    }
   ],
   "source": [
    "array"
   ]
  },
  {
   "cell_type": "code",
   "execution_count": 13,
   "id": "72d545f7",
   "metadata": {},
   "outputs": [
    {
     "data": {
      "text/plain": [
       "dtype('int64')"
      ]
     },
     "execution_count": 13,
     "metadata": {},
     "output_type": "execute_result"
    }
   ],
   "source": [
    "array.dtype"
   ]
  },
  {
   "cell_type": "code",
   "execution_count": 14,
   "id": "18e3c7bd",
   "metadata": {},
   "outputs": [],
   "source": [
    "ll=['3,5,7,78']"
   ]
  },
  {
   "cell_type": "code",
   "execution_count": 18,
   "id": "ccf8e6b9",
   "metadata": {},
   "outputs": [
    {
     "data": {
      "text/plain": [
       "array(['3,5,7,78'], dtype='<U8')"
      ]
     },
     "execution_count": 18,
     "metadata": {},
     "output_type": "execute_result"
    }
   ],
   "source": [
    "arr=np.array(ll)\n",
    "arr\n"
   ]
  },
  {
   "cell_type": "code",
   "execution_count": 21,
   "id": "1c6bbd99",
   "metadata": {},
   "outputs": [
    {
     "data": {
      "text/plain": [
       "dtype('<U8')"
      ]
     },
     "execution_count": 21,
     "metadata": {},
     "output_type": "execute_result"
    }
   ],
   "source": [
    "arr.dtype"
   ]
  },
  {
   "cell_type": "code",
   "execution_count": 29,
   "id": "ceef4f44",
   "metadata": {},
   "outputs": [],
   "source": [
    "tensors[3]=100"
   ]
  },
  {
   "cell_type": "code",
   "execution_count": 30,
   "id": "9f597850",
   "metadata": {},
   "outputs": [
    {
     "data": {
      "text/plain": [
       "tensor([  1,   3,   4, 100,   6,   8,   7])"
      ]
     },
     "execution_count": 30,
     "metadata": {},
     "output_type": "execute_result"
    }
   ],
   "source": [
    "tensors"
   ]
  },
  {
   "cell_type": "code",
   "execution_count": 31,
   "id": "a5efe3c3",
   "metadata": {},
   "outputs": [
    {
     "data": {
      "text/plain": [
       "array([  1,   3,   4, 100,   6,   8,   7])"
      ]
     },
     "execution_count": 31,
     "metadata": {},
     "output_type": "execute_result"
    }
   ],
   "source": [
    "array"
   ]
  },
  {
   "cell_type": "code",
   "execution_count": 33,
   "id": "07c1596d",
   "metadata": {},
   "outputs": [],
   "source": [
    "###prevnent this by using torch.tensor"
   ]
  },
  {
   "cell_type": "code",
   "execution_count": 36,
   "id": "5bc2fc76",
   "metadata": {},
   "outputs": [],
   "source": [
    "tensor_arr=torch.tensor(array)"
   ]
  },
  {
   "cell_type": "code",
   "execution_count": 37,
   "id": "9d14ca14",
   "metadata": {},
   "outputs": [
    {
     "data": {
      "text/plain": [
       "tensor([  1,   3,   4, 100,   6,   8,   7])"
      ]
     },
     "execution_count": 37,
     "metadata": {},
     "output_type": "execute_result"
    }
   ],
   "source": [
    "tensor_arr"
   ]
  },
  {
   "cell_type": "code",
   "execution_count": 39,
   "id": "d4bf7158",
   "metadata": {},
   "outputs": [
    {
     "name": "stdout",
     "output_type": "stream",
     "text": [
      "tensor([  1,   3,   4, 200,   6,   8,   7])\n",
      "[  1   3   4 100   6   8   7]\n"
     ]
    }
   ],
   "source": [
    "tensor_arr[3]=200\n",
    "print(tensor_arr)\n",
    "print(array)"
   ]
  },
  {
   "cell_type": "code",
   "execution_count": 40,
   "id": "94faaed9",
   "metadata": {},
   "outputs": [],
   "source": [
    "# zeros and ones"
   ]
  },
  {
   "cell_type": "code",
   "execution_count": 41,
   "id": "abf6aa8f",
   "metadata": {},
   "outputs": [
    {
     "data": {
      "text/plain": [
       "tensor([[0., 0., 0.],\n",
       "        [0., 0., 0.]], dtype=torch.float64)"
      ]
     },
     "execution_count": 41,
     "metadata": {},
     "output_type": "execute_result"
    }
   ],
   "source": [
    "torch.zeros(2,3,dtype=torch.float64)"
   ]
  },
  {
   "cell_type": "code",
   "execution_count": 42,
   "id": "b10834e2",
   "metadata": {},
   "outputs": [
    {
     "data": {
      "text/plain": [
       "tensor([[1., 1., 1., 1.],\n",
       "        [1., 1., 1., 1.],\n",
       "        [1., 1., 1., 1.]], dtype=torch.float64)"
      ]
     },
     "execution_count": 42,
     "metadata": {},
     "output_type": "execute_result"
    }
   ],
   "source": [
    "torch.ones(3,4,dtype=torch.float64)"
   ]
  },
  {
   "cell_type": "code",
   "execution_count": 47,
   "id": "56328009",
   "metadata": {},
   "outputs": [],
   "source": [
    "a=torch.tensor(np.arange(0,15).reshape(3,5))"
   ]
  },
  {
   "cell_type": "code",
   "execution_count": 48,
   "id": "800ccf09",
   "metadata": {},
   "outputs": [
    {
     "data": {
      "text/plain": [
       "tensor([[ 0,  1,  2,  3,  4],\n",
       "        [ 5,  6,  7,  8,  9],\n",
       "        [10, 11, 12, 13, 14]])"
      ]
     },
     "execution_count": 48,
     "metadata": {},
     "output_type": "execute_result"
    }
   ],
   "source": [
    "a"
   ]
  },
  {
   "cell_type": "code",
   "execution_count": 51,
   "id": "610646bd",
   "metadata": {},
   "outputs": [
    {
     "data": {
      "text/plain": [
       "tensor([[ 1,  2,  3],\n",
       "        [ 6,  7,  8],\n",
       "        [11, 12, 13]])"
      ]
     },
     "execution_count": 51,
     "metadata": {},
     "output_type": "execute_result"
    }
   ],
   "source": [
    "a[:,1:4]"
   ]
  },
  {
   "cell_type": "code",
   "execution_count": null,
   "id": "f941046d",
   "metadata": {},
   "outputs": [],
   "source": []
  },
  {
   "cell_type": "markdown",
   "id": "dfad32fc",
   "metadata": {},
   "source": [
    "# Arithmetic Operations"
   ]
  },
  {
   "cell_type": "code",
   "execution_count": 52,
   "id": "5641a437",
   "metadata": {},
   "outputs": [],
   "source": [
    "a=torch.tensor([3,4,5,6],dtype=torch.float64)"
   ]
  },
  {
   "cell_type": "code",
   "execution_count": 53,
   "id": "d8c8e567",
   "metadata": {},
   "outputs": [],
   "source": [
    "b=torch.tensor([7,7,4,3],dtype=torch.float64)"
   ]
  },
  {
   "cell_type": "code",
   "execution_count": 54,
   "id": "d939d027",
   "metadata": {},
   "outputs": [
    {
     "name": "stdout",
     "output_type": "stream",
     "text": [
      "tensor([10., 11.,  9.,  9.], dtype=torch.float64)\n"
     ]
    }
   ],
   "source": [
    "print(a+b)"
   ]
  },
  {
   "cell_type": "code",
   "execution_count": 56,
   "id": "873f1e27",
   "metadata": {},
   "outputs": [
    {
     "data": {
      "text/plain": [
       "tensor([10., 11.,  9.,  9.], dtype=torch.float64)"
      ]
     },
     "execution_count": 56,
     "metadata": {},
     "output_type": "execute_result"
    }
   ],
   "source": [
    "torch.add(a,b)"
   ]
  },
  {
   "cell_type": "code",
   "execution_count": 62,
   "id": "80220d07",
   "metadata": {},
   "outputs": [],
   "source": [
    "c=torch.zeros(3)"
   ]
  },
  {
   "cell_type": "code",
   "execution_count": 63,
   "id": "06a97b0b",
   "metadata": {},
   "outputs": [
    {
     "name": "stderr",
     "output_type": "stream",
     "text": [
      "/tmp/ipykernel_24338/3773876854.py:1: UserWarning: An output with one or more elements was resized since it had shape [3], which does not match the required output shape [4]. This behavior is deprecated, and in a future PyTorch release outputs will not be resized unless they have zero elements. You can explicitly reuse an out tensor t by resizing it, inplace, to zero elements with t.resize_(0). (Triggered internally at /croot/pytorch_1686931851744/work/aten/src/ATen/native/Resize.cpp:26.)\n",
      "  torch.add(a,b,out=c)\n"
     ]
    },
    {
     "data": {
      "text/plain": [
       "tensor([10., 11.,  9.,  9.])"
      ]
     },
     "execution_count": 63,
     "metadata": {},
     "output_type": "execute_result"
    }
   ],
   "source": [
    "torch.add(a,b,out=c)"
   ]
  },
  {
   "cell_type": "code",
   "execution_count": 64,
   "id": "a9751537",
   "metadata": {},
   "outputs": [],
   "source": [
    "##some more operations"
   ]
  },
  {
   "cell_type": "code",
   "execution_count": 66,
   "id": "bfb70d71",
   "metadata": {},
   "outputs": [
    {
     "data": {
      "text/plain": [
       "tensor(39., dtype=torch.float64)"
      ]
     },
     "execution_count": 66,
     "metadata": {},
     "output_type": "execute_result"
    }
   ],
   "source": [
    "torch.add(a,b).sum()"
   ]
  },
  {
   "cell_type": "markdown",
   "id": "67f24cf8",
   "metadata": {},
   "source": [
    "##Dot Products and Mult Operations "
   ]
  },
  {
   "cell_type": "code",
   "execution_count": 70,
   "id": "cb090e2f",
   "metadata": {},
   "outputs": [],
   "source": [
    "x=torch.tensor([5,6,7,3,9],dtype=torch.float)"
   ]
  },
  {
   "cell_type": "code",
   "execution_count": 71,
   "id": "696551f4",
   "metadata": {},
   "outputs": [],
   "source": [
    "y=torch.tensor([9,4,2,1,7],dtype=torch.float)"
   ]
  },
  {
   "cell_type": "code",
   "execution_count": 72,
   "id": "f6064314",
   "metadata": {},
   "outputs": [
    {
     "data": {
      "text/plain": [
       "tensor([45., 24., 14.,  3., 63.])"
      ]
     },
     "execution_count": 72,
     "metadata": {},
     "output_type": "execute_result"
    }
   ],
   "source": [
    "x.mul(y)"
   ]
  },
  {
   "cell_type": "code",
   "execution_count": 73,
   "id": "ff2bf6c3",
   "metadata": {},
   "outputs": [
    {
     "data": {
      "text/plain": [
       "tensor([45., 24., 14.,  3., 63.])"
      ]
     },
     "execution_count": 73,
     "metadata": {},
     "output_type": "execute_result"
    }
   ],
   "source": [
    "torch.mul(x,y)"
   ]
  },
  {
   "cell_type": "code",
   "execution_count": 74,
   "id": "4eeea427",
   "metadata": {},
   "outputs": [
    {
     "data": {
      "text/plain": [
       "tensor(149.)"
      ]
     },
     "execution_count": 74,
     "metadata": {},
     "output_type": "execute_result"
    }
   ],
   "source": [
    "x.dot(y)"
   ]
  },
  {
   "cell_type": "code",
   "execution_count": 75,
   "id": "7e5258c3",
   "metadata": {},
   "outputs": [
    {
     "data": {
      "text/plain": [
       "tensor(149.)"
      ]
     },
     "execution_count": 75,
     "metadata": {},
     "output_type": "execute_result"
    }
   ],
   "source": [
    "torch.dot(x,y)"
   ]
  },
  {
   "cell_type": "markdown",
   "id": "a354ffb9",
   "metadata": {},
   "source": [
    "# Matrix Multiplications\n"
   ]
  },
  {
   "cell_type": "code",
   "execution_count": 81,
   "id": "7f0dd7f6",
   "metadata": {},
   "outputs": [],
   "source": [
    "i=torch.tensor([[4,6,4],[4,574,7]],dtype=torch.float)\n",
    "j=torch.tensor([[4,2],[5,7],[43,26]],dtype=torch.float)"
   ]
  },
  {
   "cell_type": "code",
   "execution_count": 82,
   "id": "7cd4f0a2",
   "metadata": {},
   "outputs": [
    {
     "data": {
      "text/plain": [
       "tensor([[ 218.,  154.],\n",
       "        [3187., 4208.]])"
      ]
     },
     "execution_count": 82,
     "metadata": {},
     "output_type": "execute_result"
    }
   ],
   "source": [
    "torch.matmul(i,j)"
   ]
  },
  {
   "cell_type": "code",
   "execution_count": 83,
   "id": "dae85ae6",
   "metadata": {},
   "outputs": [
    {
     "data": {
      "text/plain": [
       "tensor([[ 218.,  154.],\n",
       "        [3187., 4208.]])"
      ]
     },
     "execution_count": 83,
     "metadata": {},
     "output_type": "execute_result"
    }
   ],
   "source": [
    "torch.mm(i,j)"
   ]
  },
  {
   "cell_type": "code",
   "execution_count": 85,
   "id": "d17a193b",
   "metadata": {},
   "outputs": [
    {
     "data": {
      "text/plain": [
       "tensor([[ 218.,  154.],\n",
       "        [3187., 4208.]])"
      ]
     },
     "execution_count": 85,
     "metadata": {},
     "output_type": "execute_result"
    }
   ],
   "source": [
    "i@j   #(@) short form of matrix multiplictaions"
   ]
  },
  {
   "cell_type": "code",
   "execution_count": null,
   "id": "3a62c71f",
   "metadata": {},
   "outputs": [],
   "source": []
  },
  {
   "cell_type": "code",
   "execution_count": null,
   "id": "2357c82a",
   "metadata": {},
   "outputs": [],
   "source": []
  }
 ],
 "metadata": {
  "kernelspec": {
   "display_name": "Python 3 (ipykernel)",
   "language": "python",
   "name": "python3"
  },
  "language_info": {
   "codemirror_mode": {
    "name": "ipython",
    "version": 3
   },
   "file_extension": ".py",
   "mimetype": "text/x-python",
   "name": "python",
   "nbconvert_exporter": "python",
   "pygments_lexer": "ipython3",
   "version": "3.10.11"
  }
 },
 "nbformat": 4,
 "nbformat_minor": 5
}
